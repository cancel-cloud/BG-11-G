{
  "nbformat": 4,
  "nbformat_minor": 0,
  "metadata": {
    "colab": {
      "provenance": []
    },
    "kernelspec": {
      "name": "python3",
      "display_name": "Python 3"
    },
    "language_info": {
      "name": "python"
    }
  },
  "cells": [
    {
      "cell_type": "code",
      "execution_count": 7,
      "metadata": {
        "colab": {
          "base_uri": "https://localhost:8080/"
        },
        "id": "UoNPrf-aEpLc",
        "outputId": "6278d29e-d91f-4988-a216-fc7c96f3fd8a"
      },
      "outputs": [
        {
          "output_type": "stream",
          "name": "stdout",
          "text": [
            "Grafikkarten-Daten:\n",
            "Name: GeForce RTX 4070 Ti SUPER\n",
            "Taktfrequenz: 2340MHz\n",
            "Streamprozessoren: 8448 Einheiten\n",
            "Kapazität: 16GB\n",
            "Anbindung: 256Bit\n",
            "Effektiver Takt: 1400MHz (22400MHz GDDR6X)\n",
            "Preis: 898.37 €\n"
          ]
        }
      ],
      "source": [
        "import requests\n",
        "from bs4 import BeautifulSoup\n",
        "import re\n",
        "\n",
        "def fetch_page(url):\n",
        "    response = requests.get(url)\n",
        "    return BeautifulSoup(response.text, 'html.parser')\n",
        "\n",
        "def extract_details(soup):\n",
        "    details = {}\n",
        "    tables = soup.find_all(\"table\", class_=\"table table-striped table-hover\")\n",
        "    if tables:\n",
        "        general_table = tables[0]\n",
        "        for row in general_table.find_all(\"tr\"):\n",
        "            cells = row.find_all(\"td\")\n",
        "            if cells:\n",
        "                details[cells[0].text.strip()] = cells[1].text.strip()\n",
        "\n",
        "        if len(tables) > 1:\n",
        "            memory_table = tables[1]\n",
        "            for row in memory_table.find_all(\"tr\"):\n",
        "                cells = row.find_all(\"td\")\n",
        "                if cells:\n",
        "                    details[cells[0].text.strip()] = cells[1].text.strip()\n",
        "\n",
        "    return details\n",
        "\n",
        "def extract_price(soup):\n",
        "    price_text = soup.find(\"div\", class_=\"pprice\").text.strip()\n",
        "    price_match = re.search(r\"\\d+,\\d+\", price_text)\n",
        "    if price_match:\n",
        "        price = price_match.group(0).replace(',', '.')  # Ersetzen von Komma durch Punkt\n",
        "        return float(price)\n",
        "    return None\n",
        "\n",
        "def get_graphics_card_data(url):\n",
        "    soup = fetch_page(url)\n",
        "    details = extract_details(soup)\n",
        "    price = extract_price(soup)\n",
        "    return {\n",
        "        \"Name\": details.get(\"GPU Modell:\"),\n",
        "        \"Taktfrequenz\": details.get(\"GPU Takt:\"),\n",
        "        \"Streamprozessoren\": details.get(\"Anzahl der Streamprozessoren:\"),\n",
        "        \"Kapazität\": details.get(\"Grösse des Grafikspeichers:\"),\n",
        "        \"Anbindung\": details.get(\"Grafikspeicher Anbindung:\"),\n",
        "        \"Effektiver Takt\": details.get(\"Grafikspeicher Taktfrequenz:\"),\n",
        "        \"Preis\": price\n",
        "    }\n",
        "\n",
        "def print_graphics_card_data(data):\n",
        "    print(\"Grafikkarten-Daten:\")\n",
        "    for key, value in data.items():\n",
        "        if key == \"Preis\":\n",
        "            print(f\"{key}: {value} €\")\n",
        "        else:\n",
        "            print(f\"{key}: {value}\")\n",
        "\n",
        "# URL der Grafikkarte\n",
        "url = \"https://www.mindfactory.de/product_info.php/16GB-MSI-GeForce-RTX-4070-Ti-SUPER-Gaming-X-Slim-Aktiv-PCIe-4-0-x16-1xH_1521175.html\"\n",
        "data = get_graphics_card_data(url)\n",
        "print_graphics_card_data(data)\n"
      ]
    }
  ]
}