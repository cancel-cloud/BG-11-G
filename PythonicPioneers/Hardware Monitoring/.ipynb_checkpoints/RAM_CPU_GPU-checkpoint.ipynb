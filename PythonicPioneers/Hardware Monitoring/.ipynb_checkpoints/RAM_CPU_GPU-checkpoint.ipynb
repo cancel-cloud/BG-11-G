{
 "cells": [
  {
   "cell_type": "code",
   "execution_count": null,
   "metadata": {
    "vscode": {
     "languageId": "plaintext"
    }
   },
   "outputs": [],
   "source": [
    "# RAM_CPU_GPU.ipynb\n",
    "import psutil\n",
    "import GPUtil\n",
    "\n",
    "def get_cpu_info():\n",
    "    return psutil.cpu_percent(interval=1)\n",
    "\n",
    "def get_ram_info():\n",
    "    return psutil.virtual_memory().percent\n",
    "\n",
    "def get_gpu_info():\n",
    "    try:\n",
    "        gpus = GPUtil.getGPUs()\n",
    "        gpu_load = gpus[0].load if gpus else 'No GPU found'\n",
    "        return gpu_load\n",
    "    except:\n",
    "        return 'GPU Error'\n",
    "\n",
    "get_cpu_info()\n",
    "get_ram_info()\n",
    "get_gpu_info()\n"
   ]
  }
 ],
 "metadata": {
  "language_info": {
   "name": "python"
  }
 },
 "nbformat": 4,
 "nbformat_minor": 2
}
