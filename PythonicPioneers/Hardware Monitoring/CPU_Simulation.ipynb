{
 "cells": [
  {
   "cell_type": "code",
   "execution_count": null,
   "metadata": {},
   "outputs": [],
   "source": [
    "# CPU_Simulation.ipynb\n",
    "import random\n",
    "import matplotlib.pyplot as plt\n",
    "\n",
    "def generate_data():\n",
    "    return [random.uniform(40, 60) for _ in range(500)]\n",
    "\n",
    "def save_data(data):\n",
    "    return data[:100]\n",
    "\n",
    "def plot_data(data):\n",
    "    plt.plot(data)\n",
    "    plt.xlabel('Sample')\n",
    "    plt.ylabel('CPU Usage %')\n",
    "    plt.title('CPU Usage Simulation')\n",
    "    plt.show()\n",
    "\n",
    "data = generate_data()\n",
    "short_data = save_data(data)\n",
    "plot_data(short_data)\n"
   ]
  }
 ],
 "metadata": {
  "language_info": {
   "name": "python"
  }
 },
 "nbformat": 4,
 "nbformat_minor": 2
}
